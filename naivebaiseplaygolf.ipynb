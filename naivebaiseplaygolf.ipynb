{
 "cells": [
  {
   "cell_type": "code",
   "execution_count": 24,
   "metadata": {},
   "outputs": [],
   "source": [
    "from sklearn.naive_bayes import GaussianNB\n",
    "import pandas as pd\n",
    "import numpy as np\n",
    "from sklearn.preprocessing import OrdinalEncoder\n"
   ]
  },
  {
   "cell_type": "code",
   "execution_count": 25,
   "metadata": {},
   "outputs": [],
   "source": [
    "data=pd.read_excel(\"data.xls\");\n"
   ]
  },
  {
   "cell_type": "code",
   "execution_count": 26,
   "metadata": {},
   "outputs": [
    {
     "name": "stdout",
     "output_type": "stream",
     "text": [
      "[[2. 1. 0. 1.]\n",
      " [2. 1. 0. 0.]\n",
      " [0. 1. 0. 1.]\n",
      " [1. 2. 0. 1.]\n",
      " [1. 0. 1. 1.]\n",
      " [1. 0. 1. 0.]\n",
      " [0. 0. 1. 0.]\n",
      " [2. 2. 0. 1.]\n",
      " [1. 0. 1. 1.]\n",
      " [1. 2. 1. 1.]\n",
      " [2. 2. 1. 0.]\n",
      " [0. 2. 0. 0.]\n",
      " [0. 1. 1. 1.]\n",
      " [1. 2. 0. 0.]]\n"
     ]
    }
   ],
   "source": [
    "x=np.array(data[[\"Outlook\",\"Temperature\",\"Humidity\",\"Windy\"]].values)\n",
    "\n",
    "encoder = OrdinalEncoder()\n",
    "encoder.fit(x)\n",
    "x = encoder.transform(x)\n",
    "print(x)\n",
    "\n"
   ]
  },
  {
   "cell_type": "code",
   "execution_count": 32,
   "metadata": {},
   "outputs": [
    {
     "name": "stdout",
     "output_type": "stream",
     "text": [
      "[0. 0. 1. 1. 1. 0. 1. 0. 1. 1. 1. 1. 1. 0.]\n"
     ]
    }
   ],
   "source": [
    "y=np.array(data[[\"PlayGolf\"]].values);\n",
    "\n",
    "encodery = OrdinalEncoder()\n",
    "encodery.fit(y)\n",
    "y= encodery.transform(y)\n",
    "y=y.ravel()\n",
    "estimator=GaussianNB();\n",
    "print(y)\n",
    "estimator.fit(x,y);"
   ]
  },
  {
   "cell_type": "code",
   "execution_count": 37,
   "metadata": {},
   "outputs": [
    {
     "data": {
      "text/plain": [
       "array([0.])"
      ]
     },
     "execution_count": 37,
     "metadata": {},
     "output_type": "execute_result"
    }
   ],
   "source": [
    "estimator.predict([[2. ,1., 0., 1.]])\n"
   ]
  },
  {
   "cell_type": "code",
   "execution_count": null,
   "metadata": {},
   "outputs": [],
   "source": []
  },
  {
   "cell_type": "code",
   "execution_count": null,
   "metadata": {},
   "outputs": [],
   "source": []
  }
 ],
 "metadata": {
  "kernelspec": {
   "display_name": "Python 3",
   "language": "python",
   "name": "python3"
  },
  "language_info": {
   "codemirror_mode": {
    "name": "ipython",
    "version": 3
   },
   "file_extension": ".py",
   "mimetype": "text/x-python",
   "name": "python",
   "nbconvert_exporter": "python",
   "pygments_lexer": "ipython3",
   "version": "3.7.1"
  }
 },
 "nbformat": 4,
 "nbformat_minor": 2
}
